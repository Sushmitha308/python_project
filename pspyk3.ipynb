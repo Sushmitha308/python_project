{
  "nbformat": 4,
  "nbformat_minor": 0,
  "metadata": {
    "colab": {
      "provenance": []
    },
    "kernelspec": {
      "name": "python3",
      "display_name": "Python 3"
    },
    "language_info": {
      "name": "python"
    }
  },
  "cells": [
    {
      "cell_type": "markdown",
      "source": [
        "#PySpark Practice Notebook\n",
        "Experimenting further with Spark Dataframes"
      ],
      "metadata": {
        "id": "vyfMDH344XZy"
      }
    },
    {
      "cell_type": "code",
      "execution_count": null,
      "metadata": {
        "id": "oEO4Bljq4SDh"
      },
      "outputs": [],
      "source": [
        "#Create CSV files for the following Datasets\n",
        "\n",
        "patients\n",
        "patientId,firstName,lastName,age\n",
        "101,Alice,Smith,30\n",
        "102,Bob,Johnson,45\n",
        "103,Charlie,Williams,50\n",
        "104,John,Smith,78\n",
        "\n",
        "visits\n",
        "visitId,patientId,visitDuration\n",
        "1,101,15\n",
        "2,101,30\n",
        "3,102,45\n",
        "4,102,30\n",
        "5,104,20\n",
        "6,103,60\n",
        "7,103,50\n",
        "8,104,45\n",
        "9,,45\n",
        "10,101,30\n",
        "11,103,40\n",
        "12,,30\n",
        "13,104,25\n",
        "15,102,15"
      ]
    },
    {
      "cell_type": "code",
      "source": [
        "#Import necessary spark libraries\n",
        "!pip install pyspark"
      ],
      "metadata": {
        "id": "G2y2JZQY4XAi",
        "outputId": "5ba5b505-655c-47c4-f909-5f989e21d489",
        "colab": {
          "base_uri": "https://localhost:8080/"
        }
      },
      "execution_count": 3,
      "outputs": [
        {
          "output_type": "stream",
          "name": "stdout",
          "text": [
            "Collecting pyspark\n",
            "  Downloading pyspark-3.5.1.tar.gz (317.0 MB)\n",
            "\u001b[2K     \u001b[90m━━━━━━━━━━━━━━━━━━━━━━━━━━━━━━━━━━━━━━━━\u001b[0m \u001b[32m317.0/317.0 MB\u001b[0m \u001b[31m4.9 MB/s\u001b[0m eta \u001b[36m0:00:00\u001b[0m\n",
            "\u001b[?25h  Preparing metadata (setup.py) ... \u001b[?25l\u001b[?25hdone\n",
            "Requirement already satisfied: py4j==0.10.9.7 in /usr/local/lib/python3.10/dist-packages (from pyspark) (0.10.9.7)\n",
            "Building wheels for collected packages: pyspark\n",
            "  Building wheel for pyspark (setup.py) ... \u001b[?25l\u001b[?25hdone\n",
            "  Created wheel for pyspark: filename=pyspark-3.5.1-py2.py3-none-any.whl size=317488490 sha256=ff07217e93392f1c5e164a11870ac377c3073370ed78da6dc3060489468ad4e0\n",
            "  Stored in directory: /root/.cache/pip/wheels/80/1d/60/2c256ed38dddce2fdd93be545214a63e02fbd8d74fb0b7f3a6\n",
            "Successfully built pyspark\n",
            "Installing collected packages: pyspark\n",
            "Successfully installed pyspark-3.5.1\n"
          ]
        }
      ]
    },
    {
      "cell_type": "code",
      "source": [
        "#Create a SparkSession\n",
        "from pyspark.sql import SparkSession\n",
        "from pyspark.sql.functions import col,lit,concat\n",
        "lti_spark=SparkSession.builder.appName('sushmitha').getOrCreate()"
      ],
      "metadata": {
        "id": "8Om-g7u26QQw"
      },
      "execution_count": 18,
      "outputs": []
    },
    {
      "cell_type": "code",
      "source": [
        "#Create dataframes from CSV files using enforced Schema\n",
        "#Schems Directive [Names as string, everything else as integers]\n",
        "%%writefile patients.csv\n",
        "patientId,firstName,lastName,age\n",
        "101,Alice,Smith,30\n",
        "102,Bob,Johnson,45\n",
        "103,Charlie,Williams,50\n",
        "104,John,Smith,78\n",
        "\n",
        "\n",
        "\n",
        "\n"
      ],
      "metadata": {
        "id": "VKkwIx3I6QOJ",
        "outputId": "9e21445f-add8-418a-9e35-7ca031d90d04",
        "colab": {
          "base_uri": "https://localhost:8080/"
        }
      },
      "execution_count": 5,
      "outputs": [
        {
          "output_type": "stream",
          "name": "stdout",
          "text": [
            "Writing patients.csv\n"
          ]
        }
      ]
    },
    {
      "cell_type": "code",
      "source": [
        "%%writefile visits.csv\n",
        "visitId,patientId,visitDuration\n",
        "1,101,15\n",
        "2,101,30\n",
        "3,102,45\n",
        "4,102,30\n",
        "5,104,20\n",
        "6,103,60\n",
        "7,103,50\n",
        "8,104,45\n",
        "9,,45\n",
        "10,101,30\n",
        "11,103,40\n",
        "12,,30\n",
        "13,104,25\n",
        "15,102,15"
      ],
      "metadata": {
        "id": "9t5KAiPQbIyu",
        "outputId": "308a1890-6b62-4fb2-e93f-f54f0c672012",
        "colab": {
          "base_uri": "https://localhost:8080/"
        }
      },
      "execution_count": 6,
      "outputs": [
        {
          "output_type": "stream",
          "name": "stdout",
          "text": [
            "Writing visits.csv\n"
          ]
        }
      ]
    },
    {
      "cell_type": "code",
      "source": [
        "df=lti_spark.read.option('header','True').csv('patients.csv')\n",
        "df.show()"
      ],
      "metadata": {
        "id": "cdjLx4Z1bRe9",
        "outputId": "5809db6d-26bf-4d9e-a54f-1a8703f8c4c0",
        "colab": {
          "base_uri": "https://localhost:8080/"
        }
      },
      "execution_count": 23,
      "outputs": [
        {
          "output_type": "stream",
          "name": "stdout",
          "text": [
            "+---------+---------+--------+---+\n",
            "|patientId|firstName|lastName|age|\n",
            "+---------+---------+--------+---+\n",
            "|      101|    Alice|   Smith| 30|\n",
            "|      102|      Bob| Johnson| 45|\n",
            "|      103|  Charlie|Williams| 50|\n",
            "|      104|     John|   Smith| 78|\n",
            "+---------+---------+--------+---+\n",
            "\n"
          ]
        }
      ]
    },
    {
      "cell_type": "code",
      "source": [
        "df1=lti_spark.read.option('header','True').csv('visits.csv')\n",
        "df1.show()"
      ],
      "metadata": {
        "id": "YLcjPNmGbiwX",
        "outputId": "1fac1025-aabc-4e29-e075-ed3276c90f92",
        "colab": {
          "base_uri": "https://localhost:8080/"
        }
      },
      "execution_count": 8,
      "outputs": [
        {
          "output_type": "stream",
          "name": "stdout",
          "text": [
            "+-------+---------+-------------+\n",
            "|visitId|patientId|visitDuration|\n",
            "+-------+---------+-------------+\n",
            "|      1|      101|           15|\n",
            "|      2|      101|           30|\n",
            "|      3|      102|           45|\n",
            "|      4|      102|           30|\n",
            "|      5|      104|           20|\n",
            "|      6|      103|           60|\n",
            "|      7|      103|           50|\n",
            "|      8|      104|           45|\n",
            "|      9|     NULL|           45|\n",
            "|     10|      101|           30|\n",
            "|     11|      103|           40|\n",
            "|     12|     NULL|           30|\n",
            "|     13|      104|           25|\n",
            "|     15|      102|           15|\n",
            "+-------+---------+-------------+\n",
            "\n"
          ]
        }
      ]
    },
    {
      "cell_type": "code",
      "source": [
        "#Display all the valid visits\n",
        "df1.filter(col('patientId').isNotNull()).show()\n",
        "\n",
        "\n",
        "#Fetch the total number of valid visits\n",
        "df1.filter(col('patientId').isNotNull()).count()\n"
      ],
      "metadata": {
        "id": "B5Jx7nYN6QTo",
        "outputId": "030cbb0e-1ed7-43e8-c6a1-f3f6e7175380",
        "colab": {
          "base_uri": "https://localhost:8080/"
        }
      },
      "execution_count": 8,
      "outputs": [
        {
          "output_type": "stream",
          "name": "stdout",
          "text": [
            "+-------+---------+-------------+\n",
            "|visitId|patientId|visitDuration|\n",
            "+-------+---------+-------------+\n",
            "|      1|      101|           15|\n",
            "|      2|      101|           30|\n",
            "|      3|      102|           45|\n",
            "|      4|      102|           30|\n",
            "|      5|      104|           20|\n",
            "|      6|      103|           60|\n",
            "|      7|      103|           50|\n",
            "|      8|      104|           45|\n",
            "|     10|      101|           30|\n",
            "|     11|      103|           40|\n",
            "|     13|      104|           25|\n",
            "|     15|      102|           15|\n",
            "+-------+---------+-------------+\n",
            "\n"
          ]
        },
        {
          "output_type": "execute_result",
          "data": {
            "text/plain": [
              "12"
            ]
          },
          "metadata": {},
          "execution_count": 8
        }
      ]
    },
    {
      "cell_type": "code",
      "source": [
        "#Get the total hours of patient visit\n",
        "from pyspark.sql.functions import sum\n",
        "\n",
        "df1.groupBy('patientId').agg(sum('visitDuration')).show()\n"
      ],
      "metadata": {
        "id": "kI7EdZZR6QV0",
        "outputId": "cf048889-653c-4ff4-9588-ab631ceefe17",
        "colab": {
          "base_uri": "https://localhost:8080/"
        }
      },
      "execution_count": 64,
      "outputs": [
        {
          "output_type": "stream",
          "name": "stdout",
          "text": [
            "+---------+------------------+\n",
            "|patientId|sum(visitDuration)|\n",
            "+---------+------------------+\n",
            "|      101|              75.0|\n",
            "|     NULL|              75.0|\n",
            "|      104|              90.0|\n",
            "|      102|              90.0|\n",
            "|      103|             150.0|\n",
            "+---------+------------------+\n",
            "\n"
          ]
        }
      ]
    },
    {
      "cell_type": "code",
      "source": [
        "#Fetch the top two most visited patients on the basis of occurances\n",
        "from pyspark.sql.functions import desc\n",
        "df1.groupBy('patientId').count().orderBy(desc('count')).show()\n",
        "\n"
      ],
      "metadata": {
        "id": "dLrXfV1f6QYT",
        "outputId": "a87b1b1e-8c5f-45af-eeeb-327b8c9d3198",
        "colab": {
          "base_uri": "https://localhost:8080/"
        }
      },
      "execution_count": 59,
      "outputs": [
        {
          "output_type": "stream",
          "name": "stdout",
          "text": [
            "+---------+-----+\n",
            "|patientId|count|\n",
            "+---------+-----+\n",
            "|      101|    3|\n",
            "|      104|    3|\n",
            "|      102|    3|\n",
            "|      103|    3|\n",
            "|     NULL|    2|\n",
            "+---------+-----+\n",
            "\n"
          ]
        }
      ]
    },
    {
      "cell_type": "code",
      "source": [
        "#Add a new column patientFullName & display complete dataframe\n",
        "\n",
        "from pyspark.sql.functions import col,lit\n",
        "df2=df.withColumn('patientFullName',concat(df.firstName,df.lastName))\n",
        "df2.show()"
      ],
      "metadata": {
        "id": "T4M1XTw56Qat",
        "outputId": "2fb255f0-84a3-4181-96a7-2f938ff6710d",
        "colab": {
          "base_uri": "https://localhost:8080/"
        }
      },
      "execution_count": 28,
      "outputs": [
        {
          "output_type": "stream",
          "name": "stdout",
          "text": [
            "+---------+---------+--------+---+---------------+\n",
            "|patientId|firstName|lastName|age|patientFullName|\n",
            "+---------+---------+--------+---+---------------+\n",
            "|      101|    Alice|   Smith| 30|     AliceSmith|\n",
            "|      102|      Bob| Johnson| 45|     BobJohnson|\n",
            "|      103|  Charlie|Williams| 50|CharlieWilliams|\n",
            "|      104|     John|   Smith| 78|      JohnSmith|\n",
            "+---------+---------+--------+---+---------------+\n",
            "\n"
          ]
        }
      ]
    },
    {
      "cell_type": "code",
      "source": [
        "df2.show()"
      ],
      "metadata": {
        "id": "x1hrRRioEc7n",
        "outputId": "fccb6551-683f-4c0e-de9b-911a7d82151c",
        "colab": {
          "base_uri": "https://localhost:8080/"
        }
      },
      "execution_count": 29,
      "outputs": [
        {
          "output_type": "stream",
          "name": "stdout",
          "text": [
            "+---------+---------+--------+---+---------------+\n",
            "|patientId|firstName|lastName|age|patientFullName|\n",
            "+---------+---------+--------+---+---------------+\n",
            "|      101|    Alice|   Smith| 30|     AliceSmith|\n",
            "|      102|      Bob| Johnson| 45|     BobJohnson|\n",
            "|      103|  Charlie|Williams| 50|CharlieWilliams|\n",
            "|      104|     John|   Smith| 78|      JohnSmith|\n",
            "+---------+---------+--------+---+---------------+\n",
            "\n"
          ]
        }
      ]
    },
    {
      "cell_type": "code",
      "source": [],
      "metadata": {
        "id": "StppmafyEc4P"
      },
      "execution_count": null,
      "outputs": []
    },
    {
      "cell_type": "code",
      "source": [
        "#Display the name of patients with maximum visiting hours\n",
        "from pyspark.sql.functions import sum,desc\n",
        "df3=df2.join(df1,df2.patientId==df1.patientId)\n",
        "df3.groupBy('patientFullName').agg(sum('visitDuration')).orderBy(desc(sum('visitDuration'))).limit(1).show()\n",
        "\n"
      ],
      "metadata": {
        "id": "Ecq6DnjA6QdB",
        "outputId": "2bfc0710-0bab-4716-93fd-07e7fec3604f",
        "colab": {
          "base_uri": "https://localhost:8080/"
        }
      },
      "execution_count": 37,
      "outputs": [
        {
          "output_type": "stream",
          "name": "stdout",
          "text": [
            "+---------------+------------------+\n",
            "|patientFullName|sum(visitDuration)|\n",
            "+---------------+------------------+\n",
            "|CharlieWilliams|             150.0|\n",
            "+---------------+------------------+\n",
            "\n"
          ]
        }
      ]
    },
    {
      "cell_type": "code",
      "source": [
        "#Find the patient with maximum visiting hours in a single visit\n",
        "df3.orderBy(desc('visitDuration')).limit(1).show()\n"
      ],
      "metadata": {
        "id": "TSqXIP_i6QfX",
        "outputId": "2df5e390-04fc-4be9-b24c-3e95d20d2b3f",
        "colab": {
          "base_uri": "https://localhost:8080/"
        }
      },
      "execution_count": 41,
      "outputs": [
        {
          "output_type": "stream",
          "name": "stdout",
          "text": [
            "+---------+---------+--------+---+---------------+-------+---------+-------------+\n",
            "|patientId|firstName|lastName|age|patientFullName|visitId|patientId|visitDuration|\n",
            "+---------+---------+--------+---+---------------+-------+---------+-------------+\n",
            "|      103|  Charlie|Williams| 50|CharlieWilliams|      6|      103|           60|\n",
            "+---------+---------+--------+---+---------------+-------+---------+-------------+\n",
            "\n"
          ]
        }
      ]
    },
    {
      "cell_type": "code",
      "source": [
        "#Show the patient info according to age-seniority\n",
        "df.orderBy(desc('age')).show()"
      ],
      "metadata": {
        "id": "Arpnz5O36Qhu",
        "outputId": "c3759a4b-7a0f-46d4-b4d2-6e1d305d8d1b",
        "colab": {
          "base_uri": "https://localhost:8080/"
        }
      },
      "execution_count": 42,
      "outputs": [
        {
          "output_type": "stream",
          "name": "stdout",
          "text": [
            "+---------+---------+--------+---+\n",
            "|patientId|firstName|lastName|age|\n",
            "+---------+---------+--------+---+\n",
            "|      104|     John|   Smith| 78|\n",
            "|      103|  Charlie|Williams| 50|\n",
            "|      102|      Bob| Johnson| 45|\n",
            "|      101|    Alice|   Smith| 30|\n",
            "+---------+---------+--------+---+\n",
            "\n"
          ]
        }
      ]
    }
  ]
}